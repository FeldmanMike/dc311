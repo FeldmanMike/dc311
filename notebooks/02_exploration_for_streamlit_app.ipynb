{
 "cells": [
  {
   "cell_type": "code",
   "execution_count": 1,
   "metadata": {},
   "outputs": [],
   "source": [
    "import pandas as pd\n",
    "pd.set_option('display.max_rows', None)\n",
    "import json"
   ]
  },
  {
   "cell_type": "code",
   "execution_count": 2,
   "metadata": {},
   "outputs": [
    {
     "name": "stderr",
     "output_type": "stream",
     "text": [
      "/var/folders/rq/rs89ll8n2w93x8gnl0mtn7sw0000gn/T/ipykernel_20767/260465707.py:1: DtypeWarning: Columns (27) have mixed types. Specify dtype option on import or set low_memory=False.\n",
      "  features = pd.read_csv('../data/interim/dc_311_preprocessed_data.csv')\n"
     ]
    }
   ],
   "source": [
    "features = pd.read_csv('../data/interim/dc_311_preprocessed_data.csv')"
   ]
  },
  {
   "cell_type": "code",
   "execution_count": 3,
   "metadata": {},
   "outputs": [
    {
     "data": {
      "text/html": [
       "<div>\n",
       "<style scoped>\n",
       "    .dataframe tbody tr th:only-of-type {\n",
       "        vertical-align: middle;\n",
       "    }\n",
       "\n",
       "    .dataframe tbody tr th {\n",
       "        vertical-align: top;\n",
       "    }\n",
       "\n",
       "    .dataframe thead th {\n",
       "        text-align: right;\n",
       "    }\n",
       "</style>\n",
       "<table border=\"1\" class=\"dataframe\">\n",
       "  <thead>\n",
       "    <tr style=\"text-align: right;\">\n",
       "      <th></th>\n",
       "      <th>objectid</th>\n",
       "      <th>servicecode</th>\n",
       "      <th>servicecodedescription</th>\n",
       "      <th>servicetypecodedescription</th>\n",
       "      <th>organizationacronym</th>\n",
       "      <th>servicecallcount</th>\n",
       "      <th>adddate</th>\n",
       "      <th>resolutiondate</th>\n",
       "      <th>serviceduedate</th>\n",
       "      <th>serviceorderdate</th>\n",
       "      <th>...</th>\n",
       "      <th>gis_id</th>\n",
       "      <th>globalid</th>\n",
       "      <th>creator</th>\n",
       "      <th>created</th>\n",
       "      <th>editor</th>\n",
       "      <th>edited</th>\n",
       "      <th>gdb_from_date</th>\n",
       "      <th>gdb_to_date</th>\n",
       "      <th>gdb_archive_oid</th>\n",
       "      <th>days_to_resolve</th>\n",
       "    </tr>\n",
       "  </thead>\n",
       "  <tbody>\n",
       "    <tr>\n",
       "      <th>0</th>\n",
       "      <td>9591692</td>\n",
       "      <td>S0031</td>\n",
       "      <td>Bulk Collection</td>\n",
       "      <td>SWMA- Solid Waste Management Admistration</td>\n",
       "      <td>DPW</td>\n",
       "      <td>1</td>\n",
       "      <td>2021-01-01 05:32:05</td>\n",
       "      <td>2021-01-06 15:34:42</td>\n",
       "      <td>2021-01-06 23:59:00</td>\n",
       "      <td>2021-01-01 05:32:05</td>\n",
       "      <td>...</td>\n",
       "      <td>NaN</td>\n",
       "      <td>{B7D1802E-75AA-7CDF-E053-532F520AE3B3}</td>\n",
       "      <td>NaN</td>\n",
       "      <td>NaN</td>\n",
       "      <td>NaN</td>\n",
       "      <td>NaN</td>\n",
       "      <td>1.725867e+12</td>\n",
       "      <td>2.534023e+14</td>\n",
       "      <td>1873518.0</td>\n",
       "      <td>5.0</td>\n",
       "    </tr>\n",
       "    <tr>\n",
       "      <th>1</th>\n",
       "      <td>9591693</td>\n",
       "      <td>BICYCLE</td>\n",
       "      <td>Abandoned Bicycle</td>\n",
       "      <td>SWMA- Solid Waste Management Admistration</td>\n",
       "      <td>DPW</td>\n",
       "      <td>1</td>\n",
       "      <td>2021-01-01 05:06:02</td>\n",
       "      <td>2021-01-01 05:07:01</td>\n",
       "      <td>2021-01-09 04:59:00</td>\n",
       "      <td>2021-01-01 05:06:02</td>\n",
       "      <td>...</td>\n",
       "      <td>NaN</td>\n",
       "      <td>{B7D1802E-75AB-7CDF-E053-532F520AE3B3}</td>\n",
       "      <td>NaN</td>\n",
       "      <td>NaN</td>\n",
       "      <td>NaN</td>\n",
       "      <td>NaN</td>\n",
       "      <td>1.725867e+12</td>\n",
       "      <td>2.534023e+14</td>\n",
       "      <td>1873519.0</td>\n",
       "      <td>0.0</td>\n",
       "    </tr>\n",
       "    <tr>\n",
       "      <th>2</th>\n",
       "      <td>9591695</td>\n",
       "      <td>S05SL</td>\n",
       "      <td>Streetlight Repair Investigation</td>\n",
       "      <td>Transportation Operations Administration</td>\n",
       "      <td>DDOT</td>\n",
       "      <td>1</td>\n",
       "      <td>2021-01-01 05:33:08</td>\n",
       "      <td>2021-01-05 05:55:04</td>\n",
       "      <td>2021-01-12 05:33:08</td>\n",
       "      <td>2021-01-01 05:33:08</td>\n",
       "      <td>...</td>\n",
       "      <td>NaN</td>\n",
       "      <td>{B7D1802E-75AD-7CDF-E053-532F520AE3B3}</td>\n",
       "      <td>NaN</td>\n",
       "      <td>NaN</td>\n",
       "      <td>NaN</td>\n",
       "      <td>NaN</td>\n",
       "      <td>1.725867e+12</td>\n",
       "      <td>2.534023e+14</td>\n",
       "      <td>1873521.0</td>\n",
       "      <td>4.0</td>\n",
       "    </tr>\n",
       "    <tr>\n",
       "      <th>3</th>\n",
       "      <td>9591696</td>\n",
       "      <td>S0031</td>\n",
       "      <td>Bulk Collection</td>\n",
       "      <td>SWMA- Solid Waste Management Admistration</td>\n",
       "      <td>DPW</td>\n",
       "      <td>1</td>\n",
       "      <td>2021-01-01 11:58:18</td>\n",
       "      <td>2021-01-04 12:54:36</td>\n",
       "      <td>2021-01-05 04:59:00</td>\n",
       "      <td>2021-01-01 11:58:18</td>\n",
       "      <td>...</td>\n",
       "      <td>NaN</td>\n",
       "      <td>{B7D764C0-4508-BB8F-E053-532F520A63E8}</td>\n",
       "      <td>NaN</td>\n",
       "      <td>NaN</td>\n",
       "      <td>NaN</td>\n",
       "      <td>NaN</td>\n",
       "      <td>1.725867e+12</td>\n",
       "      <td>2.534023e+14</td>\n",
       "      <td>1869397.0</td>\n",
       "      <td>3.0</td>\n",
       "    </tr>\n",
       "    <tr>\n",
       "      <th>4</th>\n",
       "      <td>9591903</td>\n",
       "      <td>S05SL</td>\n",
       "      <td>Streetlight Repair Investigation</td>\n",
       "      <td>Transportation Operations Administration</td>\n",
       "      <td>DDOT</td>\n",
       "      <td>1</td>\n",
       "      <td>2021-01-01 06:05:25</td>\n",
       "      <td>2021-01-26 21:40:13</td>\n",
       "      <td>2021-01-12 06:05:25</td>\n",
       "      <td>2021-01-01 06:05:25</td>\n",
       "      <td>...</td>\n",
       "      <td>NaN</td>\n",
       "      <td>{B7D25EBE-F302-E2F7-E053-542F520AD49B}</td>\n",
       "      <td>NaN</td>\n",
       "      <td>NaN</td>\n",
       "      <td>NaN</td>\n",
       "      <td>NaN</td>\n",
       "      <td>1.725867e+12</td>\n",
       "      <td>2.534023e+14</td>\n",
       "      <td>1873581.0</td>\n",
       "      <td>25.0</td>\n",
       "    </tr>\n",
       "  </tbody>\n",
       "</table>\n",
       "<p>5 rows × 38 columns</p>\n",
       "</div>"
      ],
      "text/plain": [
       "   objectid servicecode            servicecodedescription  \\\n",
       "0   9591692       S0031                   Bulk Collection   \n",
       "1   9591693     BICYCLE                 Abandoned Bicycle   \n",
       "2   9591695       S05SL  Streetlight Repair Investigation   \n",
       "3   9591696       S0031                   Bulk Collection   \n",
       "4   9591903       S05SL  Streetlight Repair Investigation   \n",
       "\n",
       "                  servicetypecodedescription organizationacronym  \\\n",
       "0  SWMA- Solid Waste Management Admistration                 DPW   \n",
       "1  SWMA- Solid Waste Management Admistration                 DPW   \n",
       "2   Transportation Operations Administration                DDOT   \n",
       "3  SWMA- Solid Waste Management Admistration                 DPW   \n",
       "4   Transportation Operations Administration                DDOT   \n",
       "\n",
       "   servicecallcount              adddate       resolutiondate  \\\n",
       "0                 1  2021-01-01 05:32:05  2021-01-06 15:34:42   \n",
       "1                 1  2021-01-01 05:06:02  2021-01-01 05:07:01   \n",
       "2                 1  2021-01-01 05:33:08  2021-01-05 05:55:04   \n",
       "3                 1  2021-01-01 11:58:18  2021-01-04 12:54:36   \n",
       "4                 1  2021-01-01 06:05:25  2021-01-26 21:40:13   \n",
       "\n",
       "        serviceduedate     serviceorderdate  ...  gis_id  \\\n",
       "0  2021-01-06 23:59:00  2021-01-01 05:32:05  ...     NaN   \n",
       "1  2021-01-09 04:59:00  2021-01-01 05:06:02  ...     NaN   \n",
       "2  2021-01-12 05:33:08  2021-01-01 05:33:08  ...     NaN   \n",
       "3  2021-01-05 04:59:00  2021-01-01 11:58:18  ...     NaN   \n",
       "4  2021-01-12 06:05:25  2021-01-01 06:05:25  ...     NaN   \n",
       "\n",
       "                                 globalid  creator created  editor edited  \\\n",
       "0  {B7D1802E-75AA-7CDF-E053-532F520AE3B3}      NaN     NaN     NaN    NaN   \n",
       "1  {B7D1802E-75AB-7CDF-E053-532F520AE3B3}      NaN     NaN     NaN    NaN   \n",
       "2  {B7D1802E-75AD-7CDF-E053-532F520AE3B3}      NaN     NaN     NaN    NaN   \n",
       "3  {B7D764C0-4508-BB8F-E053-532F520A63E8}      NaN     NaN     NaN    NaN   \n",
       "4  {B7D25EBE-F302-E2F7-E053-542F520AD49B}      NaN     NaN     NaN    NaN   \n",
       "\n",
       "  gdb_from_date   gdb_to_date  gdb_archive_oid  days_to_resolve  \n",
       "0  1.725867e+12  2.534023e+14        1873518.0              5.0  \n",
       "1  1.725867e+12  2.534023e+14        1873519.0              0.0  \n",
       "2  1.725867e+12  2.534023e+14        1873521.0              4.0  \n",
       "3  1.725867e+12  2.534023e+14        1869397.0              3.0  \n",
       "4  1.725867e+12  2.534023e+14        1873581.0             25.0  \n",
       "\n",
       "[5 rows x 38 columns]"
      ]
     },
     "execution_count": 3,
     "metadata": {},
     "output_type": "execute_result"
    }
   ],
   "source": [
    "features.head()"
   ]
  },
  {
   "cell_type": "code",
   "execution_count": 4,
   "metadata": {},
   "outputs": [],
   "source": [
    "servicecode_count = pd.DataFrame(features['servicecode'].value_counts()).reset_index().rename(columns={'count': 'servicecode_count'})"
   ]
  },
  {
   "cell_type": "code",
   "execution_count": 5,
   "metadata": {},
   "outputs": [],
   "source": [
    "service_codes = features.drop_duplicates('servicecode')[['servicecode', 'servicecodedescription', 'servicetypecodedescription']]"
   ]
  },
  {
   "cell_type": "code",
   "execution_count": 6,
   "metadata": {},
   "outputs": [
    {
     "data": {
      "text/plain": [
       "(137, 3)"
      ]
     },
     "execution_count": 6,
     "metadata": {},
     "output_type": "execute_result"
    }
   ],
   "source": [
    "service_codes.shape"
   ]
  },
  {
   "cell_type": "code",
   "execution_count": 7,
   "metadata": {},
   "outputs": [],
   "source": [
    "service_codes = service_codes.merge(servicecode_count, how='left', on='servicecode')"
   ]
  },
  {
   "cell_type": "code",
   "execution_count": 8,
   "metadata": {},
   "outputs": [
    {
     "data": {
      "text/plain": [
       "(137, 4)"
      ]
     },
     "execution_count": 8,
     "metadata": {},
     "output_type": "execute_result"
    }
   ],
   "source": [
    "service_codes.shape"
   ]
  },
  {
   "cell_type": "code",
   "execution_count": 9,
   "metadata": {},
   "outputs": [
    {
     "data": {
      "text/html": [
       "<div>\n",
       "<style scoped>\n",
       "    .dataframe tbody tr th:only-of-type {\n",
       "        vertical-align: middle;\n",
       "    }\n",
       "\n",
       "    .dataframe tbody tr th {\n",
       "        vertical-align: top;\n",
       "    }\n",
       "\n",
       "    .dataframe thead th {\n",
       "        text-align: right;\n",
       "    }\n",
       "</style>\n",
       "<table border=\"1\" class=\"dataframe\">\n",
       "  <thead>\n",
       "    <tr style=\"text-align: right;\">\n",
       "      <th></th>\n",
       "      <th>servicecode</th>\n",
       "      <th>servicecodedescription</th>\n",
       "      <th>servicetypecodedescription</th>\n",
       "      <th>servicecode_count</th>\n",
       "    </tr>\n",
       "  </thead>\n",
       "  <tbody>\n",
       "    <tr>\n",
       "      <th>0</th>\n",
       "      <td>S0031</td>\n",
       "      <td>Bulk Collection</td>\n",
       "      <td>SWMA- Solid Waste Management Admistration</td>\n",
       "      <td>205502</td>\n",
       "    </tr>\n",
       "    <tr>\n",
       "      <th>1</th>\n",
       "      <td>BICYCLE</td>\n",
       "      <td>Abandoned Bicycle</td>\n",
       "      <td>SWMA- Solid Waste Management Admistration</td>\n",
       "      <td>2212</td>\n",
       "    </tr>\n",
       "    <tr>\n",
       "      <th>2</th>\n",
       "      <td>S05SL</td>\n",
       "      <td>Streetlight Repair Investigation</td>\n",
       "      <td>Transportation Operations Administration</td>\n",
       "      <td>40069</td>\n",
       "    </tr>\n",
       "    <tr>\n",
       "      <th>3</th>\n",
       "      <td>S0441</td>\n",
       "      <td>Trash Collection - Missed</td>\n",
       "      <td>SWMA- Solid Waste Management Admistration</td>\n",
       "      <td>50492</td>\n",
       "    </tr>\n",
       "    <tr>\n",
       "      <th>4</th>\n",
       "      <td>S0261</td>\n",
       "      <td>Parking Enforcement</td>\n",
       "      <td>PEMA- Parking Enforcement Management Administr...</td>\n",
       "      <td>152390</td>\n",
       "    </tr>\n",
       "  </tbody>\n",
       "</table>\n",
       "</div>"
      ],
      "text/plain": [
       "  servicecode            servicecodedescription  \\\n",
       "0       S0031                   Bulk Collection   \n",
       "1     BICYCLE                 Abandoned Bicycle   \n",
       "2       S05SL  Streetlight Repair Investigation   \n",
       "3       S0441         Trash Collection - Missed   \n",
       "4       S0261               Parking Enforcement   \n",
       "\n",
       "                          servicetypecodedescription  servicecode_count  \n",
       "0          SWMA- Solid Waste Management Admistration             205502  \n",
       "1          SWMA- Solid Waste Management Admistration               2212  \n",
       "2           Transportation Operations Administration              40069  \n",
       "3          SWMA- Solid Waste Management Admistration              50492  \n",
       "4  PEMA- Parking Enforcement Management Administr...             152390  "
      ]
     },
     "execution_count": 9,
     "metadata": {},
     "output_type": "execute_result"
    }
   ],
   "source": [
    "service_codes.head()"
   ]
  },
  {
   "cell_type": "markdown",
   "metadata": {},
   "source": [
    "### Add service codes to `request_categories.json`"
   ]
  },
  {
   "cell_type": "code",
   "execution_count": 10,
   "metadata": {},
   "outputs": [],
   "source": [
    "with open('../streamlit_app/request_categories.json') as f:\n",
    "    category_dict = json.load(f)"
   ]
  },
  {
   "cell_type": "code",
   "execution_count": 11,
   "metadata": {},
   "outputs": [],
   "source": [
    "service_codes.index = service_codes[\"servicecodedescription\"]\n",
    "service_code_dict = service_codes.to_dict(orient=\"index\")"
   ]
  },
  {
   "cell_type": "code",
   "execution_count": 12,
   "metadata": {},
   "outputs": [],
   "source": [
    "descs_to_check = []\n",
    "num_descs = 0\n",
    "for category_str in category_dict:\n",
    "    cat_dict = category_dict[category_str]\n",
    "    cat_dict = dict(sorted(cat_dict.items()))\n",
    "    for desc in cat_dict:\n",
    "        if cat_dict[desc] is None:\n",
    "            if desc in service_code_dict:\n",
    "                cat_dict[desc] = service_code_dict[desc]['servicecode']\n",
    "            else:\n",
    "                descs_to_check.append(desc)\n",
    "            num_descs += 1\n",
    "    category_dict[category_str] = cat_dict"
   ]
  },
  {
   "cell_type": "code",
   "execution_count": 13,
   "metadata": {},
   "outputs": [
    {
     "data": {
      "text/plain": [
       "{'Alley Cleaning': 'S0011',\n",
       " 'Bulk Collection': 'S0031',\n",
       " 'Container Removal': 'CONTREMO',\n",
       " 'DOEE - Reporting Electronics in Trash': 'REIT121918',\n",
       " 'Dead Animal Collection': '11',\n",
       " 'Graffiti Removal': 'GRAFF',\n",
       " 'Illegal Dumping': 'S0181',\n",
       " 'Illegal Poster': 'S0185',\n",
       " 'Lost/Stolen Compost Bin, Broken Compost Bin or Opt-Out of Curbside Composting Pilot Program': 'COMPOST',\n",
       " 'Missed Curbside Compost Collection': 'COMPOSTM',\n",
       " 'Pet Waste Complaint': 'PETWASTECOMP',\n",
       " 'Public Space Litter Can Installation': 'LCANINS',\n",
       " 'Public Space Litter Can Removal': 'LCanRem',\n",
       " 'Public Space Litter Can Repair': 'LCanRep',\n",
       " 'Public Space Litter Can-Collection': 'S0217',\n",
       " 'Rat Replacement Containers': 'RATREPLACECONTRS',\n",
       " 'Recycling - School Program': 'RECSCHPR',\n",
       " 'Recycling Cart - Repair': 'RECCONRE',\n",
       " 'Recycling Cart Delivery': 'S0316',\n",
       " 'Recycling Collection - Missed': 'S0321',\n",
       " 'Recycling- Information Request': 'S0322',\n",
       " 'Rodent Inspection and Treatment': 'S0311',\n",
       " 'Sanitation Enforcement': 'S0346',\n",
       " 'Scheduled Yard Waste': 'S0477',\n",
       " 'Supercan - Delivery': 'S0422',\n",
       " 'Supercan - Repair': 'S0423',\n",
       " 'Trash Cart - Delivery': 'S0451',\n",
       " 'Trash Cart Repair': 'TRACO001',\n",
       " 'Trash Collection - Missed': 'S0441',\n",
       " 'Vacant Lot - Public Property Only': 'S0471'}"
      ]
     },
     "execution_count": 13,
     "metadata": {},
     "output_type": "execute_result"
    }
   ],
   "source": [
    "cat_dict"
   ]
  },
  {
   "cell_type": "code",
   "execution_count": 14,
   "metadata": {},
   "outputs": [],
   "source": [
    "with open('../streamlit_app/request_categories.json', 'w') as f:\n",
    "    json.dump(category_dict, f, indent=4)"
   ]
  }
 ],
 "metadata": {
  "kernelspec": {
   "display_name": "dcenv",
   "language": "python",
   "name": "python3"
  },
  "language_info": {
   "codemirror_mode": {
    "name": "ipython",
    "version": 3
   },
   "file_extension": ".py",
   "mimetype": "text/x-python",
   "name": "python",
   "nbconvert_exporter": "python",
   "pygments_lexer": "ipython3",
   "version": "3.12.5"
  }
 },
 "nbformat": 4,
 "nbformat_minor": 2
}
